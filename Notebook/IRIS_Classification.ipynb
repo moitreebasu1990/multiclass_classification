{
 "cells": [
  {
   "cell_type": "markdown",
   "metadata": {},
   "source": [
    "### Data Download"
   ]
  },
  {
   "cell_type": "code",
   "execution_count": 2,
   "metadata": {},
   "outputs": [],
   "source": [
    "%load_ext autoreload\n",
    "%autoreload 2"
   ]
  },
  {
   "cell_type": "code",
   "execution_count": 3,
   "metadata": {},
   "outputs": [],
   "source": [
    "# Imports the warnings module from the Python standard library\n",
    "import warnings\n",
    "\n",
    "# Configuration to ignore all warnings that are generated during the execution of the code\n",
    "warnings.filterwarnings('ignore')\n",
    "\n",
    "# Imports the clear_output function from the IPython.core.display module\n",
    "from IPython.core.display import clear_output\n",
    "\n",
    "clear_output()"
   ]
  },
  {
   "cell_type": "code",
   "execution_count": 4,
   "metadata": {},
   "outputs": [],
   "source": [
    "# Imports the NumPy library\n",
    "import numpy as np\n",
    "\n",
    "# Imports the Pandas library\n",
    "import pandas as pd\n",
    "\n",
    "# Imports the pyplot module of Matplotlib library\n",
    "import matplotlib.pyplot as plt\n",
    "\n",
    "# Imports the StandardScaler class from the sklearn.preprocessing module\n",
    "from sklearn.preprocessing import StandardScaler\n",
    "\n",
    "# Imports the train_test_split function from the sklearn.model_selection module\n",
    "from sklearn.model_selection import train_test_split\n",
    "\n",
    "# Imports three functions from the sklearn.metrics module: accuracy_score, confusion_matrix, and classification_report\n",
    "from sklearn.metrics import accuracy_score, confusion_matrix, classification_report"
   ]
  },
  {
   "cell_type": "code",
   "execution_count": 5,
   "metadata": {},
   "outputs": [],
   "source": [
    "# Imports the PyTorch library\n",
    "import torch\n",
    "\n",
    "# Imports the torch.nn module\n",
    "import torch.nn as nn\n",
    "\n",
    "# Imports the torch.optim module\n",
    "import torch.optim as optim\n",
    "\n",
    "# Imports two classes from the torch.utils.data module: DataLoader and TensorDataset\n",
    "from torch.utils.data import DataLoader\n",
    "from torch.utils.data import Dataset"
   ]
  },
  {
   "cell_type": "code",
   "execution_count": 6,
   "metadata": {},
   "outputs": [
    {
     "name": "stdout",
     "output_type": "stream",
     "text": [
      "Warning: Looks like you're using an outdated API Version, please consider updating (server 1.6.17 / client 1.6.14)\n",
      "Dataset URL: https://www.kaggle.com/datasets/uciml/iris\n",
      "License(s): CC0-1.0\n",
      "iris.zip: Skipping, found more recently modified local copy (use --force to force download)\n"
     ]
    }
   ],
   "source": [
    "# The kaggle competitions download command is used to download a dataset from a Kaggle competition\n",
    "# !kaggle competitions download -c uciml/iris -p ../Data/\n",
    "!kaggle datasets download uciml/iris -p ../Data/"
   ]
  },
  {
   "cell_type": "code",
   "execution_count": 7,
   "metadata": {},
   "outputs": [],
   "source": [
    "# Imports the zipfile module\n",
    "import zipfile\n",
    "\n",
    "# Opens the ZIP file in read-only mode and assign it to the variable zip_ref\n",
    "# The with statement is used to ensure that the file is properly closed after use\n",
    "with zipfile.ZipFile('../Data/iris.zip', 'r') as zip_ref:\n",
    "\n",
    "    # Extracts all the files from the ZIP archive and saves them to the specified directory\n",
    "    zip_ref.extractall('../Data/')"
   ]
  },
  {
   "cell_type": "code",
   "execution_count": 8,
   "metadata": {},
   "outputs": [],
   "source": [
    "# Imports the Path class from the pathlib module\n",
    "from pathlib import Path\n",
    "\n",
    "# The posix path of the data and models are assigned to the corresponding variables\n",
    "data_path = Path('../Data/')\n",
    "model_path = Path('../Models/NN/')"
   ]
  },
  {
   "cell_type": "markdown",
   "metadata": {},
   "source": [
    "# Data Exploration"
   ]
  },
  {
   "cell_type": "code",
   "execution_count": 9,
   "metadata": {},
   "outputs": [],
   "source": [
    "# Reads the 'test.csv' file and saves as a DataFrame object\n",
    "df_org = pd.read_csv(data_path/'iris.csv')"
   ]
  },
  {
   "cell_type": "code",
   "execution_count": 10,
   "metadata": {},
   "outputs": [],
   "source": [
    "# Copies the original DataFrame object to another \n",
    "df = df_org.copy()"
   ]
  },
  {
   "cell_type": "code",
   "execution_count": 11,
   "metadata": {},
   "outputs": [
    {
     "data": {
      "text/html": [
       "<div>\n",
       "<style scoped>\n",
       "    .dataframe tbody tr th:only-of-type {\n",
       "        vertical-align: middle;\n",
       "    }\n",
       "\n",
       "    .dataframe tbody tr th {\n",
       "        vertical-align: top;\n",
       "    }\n",
       "\n",
       "    .dataframe thead th {\n",
       "        text-align: right;\n",
       "    }\n",
       "</style>\n",
       "<table border=\"1\" class=\"dataframe\">\n",
       "  <thead>\n",
       "    <tr style=\"text-align: right;\">\n",
       "      <th></th>\n",
       "      <th>Id</th>\n",
       "      <th>SepalLengthCm</th>\n",
       "      <th>SepalWidthCm</th>\n",
       "      <th>PetalLengthCm</th>\n",
       "      <th>PetalWidthCm</th>\n",
       "      <th>Species</th>\n",
       "    </tr>\n",
       "  </thead>\n",
       "  <tbody>\n",
       "    <tr>\n",
       "      <th>0</th>\n",
       "      <td>1</td>\n",
       "      <td>5.1</td>\n",
       "      <td>3.5</td>\n",
       "      <td>1.4</td>\n",
       "      <td>0.2</td>\n",
       "      <td>Iris-setosa</td>\n",
       "    </tr>\n",
       "    <tr>\n",
       "      <th>1</th>\n",
       "      <td>2</td>\n",
       "      <td>4.9</td>\n",
       "      <td>3.0</td>\n",
       "      <td>1.4</td>\n",
       "      <td>0.2</td>\n",
       "      <td>Iris-setosa</td>\n",
       "    </tr>\n",
       "    <tr>\n",
       "      <th>2</th>\n",
       "      <td>3</td>\n",
       "      <td>4.7</td>\n",
       "      <td>3.2</td>\n",
       "      <td>1.3</td>\n",
       "      <td>0.2</td>\n",
       "      <td>Iris-setosa</td>\n",
       "    </tr>\n",
       "    <tr>\n",
       "      <th>3</th>\n",
       "      <td>4</td>\n",
       "      <td>4.6</td>\n",
       "      <td>3.1</td>\n",
       "      <td>1.5</td>\n",
       "      <td>0.2</td>\n",
       "      <td>Iris-setosa</td>\n",
       "    </tr>\n",
       "    <tr>\n",
       "      <th>4</th>\n",
       "      <td>5</td>\n",
       "      <td>5.0</td>\n",
       "      <td>3.6</td>\n",
       "      <td>1.4</td>\n",
       "      <td>0.2</td>\n",
       "      <td>Iris-setosa</td>\n",
       "    </tr>\n",
       "  </tbody>\n",
       "</table>\n",
       "</div>"
      ],
      "text/plain": [
       "   Id  SepalLengthCm  SepalWidthCm  PetalLengthCm  PetalWidthCm      Species\n",
       "0   1            5.1           3.5            1.4           0.2  Iris-setosa\n",
       "1   2            4.9           3.0            1.4           0.2  Iris-setosa\n",
       "2   3            4.7           3.2            1.3           0.2  Iris-setosa\n",
       "3   4            4.6           3.1            1.5           0.2  Iris-setosa\n",
       "4   5            5.0           3.6            1.4           0.2  Iris-setosa"
      ]
     },
     "execution_count": 11,
     "metadata": {},
     "output_type": "execute_result"
    }
   ],
   "source": [
    "# Shows the top five rows of the DataFrame holding the training data\n",
    "df.head()"
   ]
  },
  {
   "cell_type": "code",
   "execution_count": 12,
   "metadata": {},
   "outputs": [
    {
     "name": "stdout",
     "output_type": "stream",
     "text": [
      "<class 'pandas.core.frame.DataFrame'>\n",
      "RangeIndex: 150 entries, 0 to 149\n",
      "Data columns (total 6 columns):\n",
      " #   Column         Non-Null Count  Dtype  \n",
      "---  ------         --------------  -----  \n",
      " 0   Id             150 non-null    int64  \n",
      " 1   SepalLengthCm  150 non-null    float64\n",
      " 2   SepalWidthCm   150 non-null    float64\n",
      " 3   PetalLengthCm  150 non-null    float64\n",
      " 4   PetalWidthCm   150 non-null    float64\n",
      " 5   Species        150 non-null    object \n",
      "dtypes: float64(4), int64(1), object(1)\n",
      "memory usage: 7.2+ KB\n"
     ]
    }
   ],
   "source": [
    "df.info()"
   ]
  },
  {
   "cell_type": "code",
   "execution_count": 13,
   "metadata": {},
   "outputs": [
    {
     "data": {
      "text/plain": [
       "Id               150\n",
       "SepalLengthCm     35\n",
       "SepalWidthCm      23\n",
       "PetalLengthCm     43\n",
       "PetalWidthCm      22\n",
       "Species            3\n",
       "dtype: int64"
      ]
     },
     "execution_count": 13,
     "metadata": {},
     "output_type": "execute_result"
    }
   ],
   "source": [
    "df.nunique()"
   ]
  },
  {
   "cell_type": "code",
   "execution_count": 14,
   "metadata": {},
   "outputs": [
    {
     "data": {
      "text/plain": [
       "Id               0\n",
       "SepalLengthCm    0\n",
       "SepalWidthCm     0\n",
       "PetalLengthCm    0\n",
       "PetalWidthCm     0\n",
       "Species          0\n",
       "dtype: int64"
      ]
     },
     "execution_count": 14,
     "metadata": {},
     "output_type": "execute_result"
    }
   ],
   "source": [
    "df.isna().sum()"
   ]
  },
  {
   "cell_type": "code",
   "execution_count": 15,
   "metadata": {},
   "outputs": [],
   "source": [
    "df = df.drop(\"Id\", axis=1)"
   ]
  },
  {
   "cell_type": "code",
   "execution_count": 16,
   "metadata": {},
   "outputs": [],
   "source": [
    "def plot_columns(df:pd.DataFrame, cols:list):\n",
    "    # Checkinge distributions of the numeric columns.\n",
    "    for col in cols:\n",
    "        column = df[col]\n",
    "        min_val = column.min()\n",
    "        max_val = column.max()\n",
    "        skew = column.skew()\n",
    "        mean = column.mean()\n",
    "        \n",
    "        plt.figure(figsize=(8, 4))\n",
    "        plt.title(col)\n",
    "        plt.ylabel('Count')\n",
    "        \n",
    "        print(f\"min:{min_val} | max: {max_val} | skew: {skew} | mean: {mean}\")\n",
    "        \n",
    "        df[col].plot(kind='kde')\n",
    "\n",
    "        plt.show()"
   ]
  },
  {
   "cell_type": "code",
   "execution_count": 17,
   "metadata": {},
   "outputs": [
    {
     "name": "stdout",
     "output_type": "stream",
     "text": [
      "min:4.3 | max: 7.9 | skew: 0.3149109566369728 | mean: 5.843333333333334\n"
     ]
    },
    {
     "data": {
      "image/png": "[encoded data removed]",
      "text/plain": [
       "<Figure size 800x400 with 1 Axes>"
      ]
     },
     "metadata": {},
     "output_type": "display_data"
    },
    {
     "name": "stdout",
     "output_type": "stream",
     "text": [
      "min:2.0 | max: 4.4 | skew: 0.3340526621720866 | mean: 3.0540000000000003\n"
     ]
    },
    {
     "data": {
      "image/png": "[encoded data removed]",
      "text/plain": [
       "<Figure size 800x400 with 1 Axes>"
      ]
     },
     "metadata": {},
     "output_type": "display_data"
    },
    {
     "name": "stdout",
     "output_type": "stream",
     "text": [
      "min:1.0 | max: 6.9 | skew: -0.27446425247378287 | mean: 3.758666666666666\n"
     ]
    },
    {
     "data": {
      "image/png": "[encoded data removed]",
      "text/plain": [
       "<Figure size 800x400 with 1 Axes>"
      ]
     },
     "metadata": {},
     "output_type": "display_data"
    },
    {
     "name": "stdout",
     "output_type": "stream",
     "text": [
      "min:0.1 | max: 2.5 | skew: -0.10499656214412734 | mean: 1.1986666666666668\n"
     ]
    },
    {
     "data": {
      "image/png": "[encoded data removed]",
      "text/plain": [
       "<Figure size 800x400 with 1 Axes>"
      ]
     },
     "metadata": {},
     "output_type": "display_data"
    }
   ],
   "source": [
    "plot_columns(df, [\"SepalLengthCm\", \"SepalWidthCm\", \"PetalLengthCm\", \"PetalWidthCm\"])"
   ]
  },
  {
   "cell_type": "code",
   "execution_count": 18,
   "metadata": {},
   "outputs": [
    {
     "data": {
      "text/plain": [
       "SepalLengthCm    0\n",
       "SepalWidthCm     0\n",
       "PetalLengthCm    0\n",
       "PetalWidthCm     0\n",
       "Species          0\n",
       "dtype: int64"
      ]
     },
     "execution_count": 18,
     "metadata": {},
     "output_type": "execute_result"
    }
   ],
   "source": [
    "df.isna().sum()"
   ]
  },
  {
   "cell_type": "code",
   "execution_count": 19,
   "metadata": {},
   "outputs": [],
   "source": [
    "def remove_anomalies(df:pd.DataFrame, cols:list, multiplier=1.5)->pd.DataFrame:\n",
    "    \"\"\"Remove outliers from a data frame for selective columns\n",
    "\n",
    "    Args:\n",
    "        df (pd.DataFrame): The data frame to be altered\n",
    "        column_names (list): list of column names to be operated on\n",
    "\n",
    "    Returns:\n",
    "        pd.DataFrame: The modified data frame after removing the outliers\n",
    "    \"\"\"\n",
    "    for col in cols:\n",
    "        null_df = df[df[col].isna()]\n",
    "        \n",
    "        Q1 = df[col].quantile(0.01)\n",
    "        Q3 = df[col].quantile(0.99)\n",
    "\n",
    "        IQR = Q3 - Q1\n",
    "\n",
    "        lower_bound = Q1 - (multiplier * IQR)\n",
    "        upper_bound = Q3 + (multiplier * IQR)\n",
    "\n",
    "        df = df[(df[col] >= lower_bound) & (df[col] <= upper_bound)]\n",
    "        df = pd.concat([df, null_df])\n",
    "        \n",
    "    return df"
   ]
  },
  {
   "cell_type": "code",
   "execution_count": 20,
   "metadata": {},
   "outputs": [],
   "source": [
    "df = remove_anomalies(df, [\"SepalLengthCm\", \"SepalWidthCm\", \"PetalLengthCm\", \"PetalWidthCm\"])"
   ]
  },
  {
   "cell_type": "code",
   "execution_count": 21,
   "metadata": {},
   "outputs": [
    {
     "data": {
      "text/plain": [
       "SepalLengthCm    0\n",
       "SepalWidthCm     0\n",
       "PetalLengthCm    0\n",
       "PetalWidthCm     0\n",
       "Species          0\n",
       "dtype: int64"
      ]
     },
     "execution_count": 21,
     "metadata": {},
     "output_type": "execute_result"
    }
   ],
   "source": [
    "df.isna().sum()"
   ]
  },
  {
   "cell_type": "code",
   "execution_count": 22,
   "metadata": {},
   "outputs": [],
   "source": [
    "def normalize(data_frame:pd.DataFrame, cols:list)->pd.DataFrame:\n",
    "    \"\"\"Normalize selective columns of a data frame\n",
    "\n",
    "    Args:\n",
    "        data_frame (pd.DataFrame): The data frame to be altered\n",
    "        column_names (list): list of column names to be normalized\n",
    "\n",
    "    Returns:\n",
    "        pd.DataFrame: The modified data frame with normalized columns\n",
    "    \"\"\"\n",
    "    normalizer = StandardScaler()\n",
    "    data_frame[cols] = normalizer.fit_transform(data_frame[cols])\n",
    "\n",
    "    return data_frame"
   ]
  },
  {
   "cell_type": "code",
   "execution_count": 23,
   "metadata": {},
   "outputs": [],
   "source": [
    "df = normalize(df, [\"SepalLengthCm\", \"SepalWidthCm\", \"PetalLengthCm\", \"PetalWidthCm\"])"
   ]
  },
  {
   "cell_type": "code",
   "execution_count": 24,
   "metadata": {},
   "outputs": [
    {
     "data": {
      "text/plain": [
       "SepalLengthCm    0\n",
       "SepalWidthCm     0\n",
       "PetalLengthCm    0\n",
       "PetalWidthCm     0\n",
       "Species          0\n",
       "dtype: int64"
      ]
     },
     "execution_count": 24,
     "metadata": {},
     "output_type": "execute_result"
    }
   ],
   "source": [
    "df.isna().sum()"
   ]
  },
  {
   "cell_type": "code",
   "execution_count": 25,
   "metadata": {},
   "outputs": [],
   "source": [
    "def discretize_features(data_frame: pd.DataFrame, col, bins:list, labels:list)->pd.DataFrame:\n",
    "    \"\"\"Discretize column into fixed sized bins\n",
    "\n",
    "    Args:\n",
    "        data_frame (pd.DataFrame): The data frame to be altered\n",
    "\n",
    "    Returns:\n",
    "        pd.DataFrame: The modified data frame with new column\n",
    "    \"\"\"\n",
    "    # Discretize the column using the pd.cut() function\n",
    "    data_frame[col] = pd.cut(data_frame[col], bins=bins, labels=labels)\n",
    "\n",
    "    return data_frame"
   ]
  },
  {
   "cell_type": "code",
   "execution_count": 26,
   "metadata": {},
   "outputs": [],
   "source": [
    "# df = discretize_features(df, \"SepalLengthCm\", [4.3, 4.9, 5.5, 6.1, 6.7, 7.3, 8], [\"size1\", \"Size2\", \"size3\", \"size4\", \"size5\", \"size6\"])\n",
    "# df = discretize_features(df, \"SepalWidthCm\", [1.5, 2.0, 2.5, 3.0, 3.5, 4.0, 4.5], [\"size1\", \"Size2\", \"size3\", \"size4\", \"size5\", \"size6\"])\n",
    "# df = discretize_features(df, \"PetalLengthCm\", [0.5, 1.5, 2.5, 3.5, 4.5, 5.5, 6.5, 7.5], [\"size1\", \"Size2\", \"size3\", \"size4\", \"size5\", \"size6\", \"size7\"])\n",
    "# df = discretize_features(df, \"PetalWidthCm\", [0.0, 0.5, 1.0, 1.5, 2.0, 2.5], [\"size1\", \"Size2\", \"size3\", \"size4\", \"size5\"])"
   ]
  },
  {
   "cell_type": "code",
   "execution_count": 27,
   "metadata": {},
   "outputs": [
    {
     "data": {
      "text/plain": [
       "SepalLengthCm    0\n",
       "SepalWidthCm     0\n",
       "PetalLengthCm    0\n",
       "PetalWidthCm     0\n",
       "Species          0\n",
       "dtype: int64"
      ]
     },
     "execution_count": 27,
     "metadata": {},
     "output_type": "execute_result"
    }
   ],
   "source": [
    "df.isna().sum()"
   ]
  },
  {
   "cell_type": "code",
   "execution_count": 28,
   "metadata": {},
   "outputs": [],
   "source": [
    "# df[\"SepalLengthCm\"].fillna(df[\"SepalLengthCm\"].mode()[0], inplace=True)"
   ]
  },
  {
   "cell_type": "code",
   "execution_count": 29,
   "metadata": {},
   "outputs": [
    {
     "name": "stdout",
     "output_type": "stream",
     "text": [
      "<class 'pandas.core.frame.DataFrame'>\n",
      "Index: 150 entries, 0 to 149\n",
      "Data columns (total 5 columns):\n",
      " #   Column         Non-Null Count  Dtype  \n",
      "---  ------         --------------  -----  \n",
      " 0   SepalLengthCm  150 non-null    float64\n",
      " 1   SepalWidthCm   150 non-null    float64\n",
      " 2   PetalLengthCm  150 non-null    float64\n",
      " 3   PetalWidthCm   150 non-null    float64\n",
      " 4   Species        150 non-null    object \n",
      "dtypes: float64(4), object(1)\n",
      "memory usage: 7.0+ KB\n"
     ]
    }
   ],
   "source": [
    "df.info()"
   ]
  },
  {
   "cell_type": "code",
   "execution_count": 30,
   "metadata": {},
   "outputs": [],
   "source": [
    "def string_to_int(df:pd.DataFrame, col:str, mapper:dict)->pd.DataFrame:\n",
    "    \"\"\"AI is creating summary for bool_to_binary\n",
    "\n",
    "    Args:\n",
    "        df (pd.DataFrame): [description]\n",
    "        cols (list): [description]\n",
    "\n",
    "    Returns:\n",
    "        pd.DataFrame: [description]\n",
    "    \"\"\"\n",
    "    df[col] = df[col].astype(str)\n",
    "    df[col] = df[col].map(mapper)\n",
    "    return df"
   ]
  },
  {
   "cell_type": "code",
   "execution_count": 31,
   "metadata": {},
   "outputs": [
    {
     "data": {
      "text/plain": [
       "array(['Iris-setosa', 'Iris-versicolor', 'Iris-virginica'], dtype=object)"
      ]
     },
     "execution_count": 31,
     "metadata": {},
     "output_type": "execute_result"
    }
   ],
   "source": [
    "df[\"Species\"].unique()"
   ]
  },
  {
   "cell_type": "code",
   "execution_count": 32,
   "metadata": {},
   "outputs": [],
   "source": [
    "df = string_to_int(df, \"Species\", dict({'Iris-setosa':0, 'Iris-versicolor':1, 'Iris-virginica':2}))"
   ]
  },
  {
   "cell_type": "code",
   "execution_count": 33,
   "metadata": {},
   "outputs": [
    {
     "data": {
      "text/plain": [
       "array([0, 1, 2])"
      ]
     },
     "execution_count": 33,
     "metadata": {},
     "output_type": "execute_result"
    }
   ],
   "source": [
    "df[\"Species\"].unique()"
   ]
  },
  {
   "cell_type": "code",
   "execution_count": 34,
   "metadata": {},
   "outputs": [
    {
     "name": "stdout",
     "output_type": "stream",
     "text": [
      "<class 'pandas.core.frame.DataFrame'>\n",
      "Index: 150 entries, 0 to 149\n",
      "Data columns (total 5 columns):\n",
      " #   Column         Non-Null Count  Dtype  \n",
      "---  ------         --------------  -----  \n",
      " 0   SepalLengthCm  150 non-null    float64\n",
      " 1   SepalWidthCm   150 non-null    float64\n",
      " 2   PetalLengthCm  150 non-null    float64\n",
      " 3   PetalWidthCm   150 non-null    float64\n",
      " 4   Species        150 non-null    int64  \n",
      "dtypes: float64(4), int64(1)\n",
      "memory usage: 7.0 KB\n"
     ]
    }
   ],
   "source": [
    "df.info()"
   ]
  },
  {
   "cell_type": "code",
   "execution_count": 35,
   "metadata": {},
   "outputs": [
    {
     "data": {
      "text/html": [
       "<div>\n",
       "<style scoped>\n",
       "    .dataframe tbody tr th:only-of-type {\n",
       "        vertical-align: middle;\n",
       "    }\n",
       "\n",
       "    .dataframe tbody tr th {\n",
       "        vertical-align: top;\n",
       "    }\n",
       "\n",
       "    .dataframe thead th {\n",
       "        text-align: right;\n",
       "    }\n",
       "</style>\n",
       "<table border=\"1\" class=\"dataframe\">\n",
       "  <thead>\n",
       "    <tr style=\"text-align: right;\">\n",
       "      <th></th>\n",
       "      <th>SepalLengthCm</th>\n",
       "      <th>SepalWidthCm</th>\n",
       "      <th>PetalLengthCm</th>\n",
       "      <th>PetalWidthCm</th>\n",
       "      <th>Species</th>\n",
       "    </tr>\n",
       "  </thead>\n",
       "  <tbody>\n",
       "    <tr>\n",
       "      <th>0</th>\n",
       "      <td>-0.900681</td>\n",
       "      <td>1.032057</td>\n",
       "      <td>-1.341272</td>\n",
       "      <td>-1.312977</td>\n",
       "      <td>0</td>\n",
       "    </tr>\n",
       "    <tr>\n",
       "      <th>1</th>\n",
       "      <td>-1.143017</td>\n",
       "      <td>-0.124958</td>\n",
       "      <td>-1.341272</td>\n",
       "      <td>-1.312977</td>\n",
       "      <td>0</td>\n",
       "    </tr>\n",
       "    <tr>\n",
       "      <th>2</th>\n",
       "      <td>-1.385353</td>\n",
       "      <td>0.337848</td>\n",
       "      <td>-1.398138</td>\n",
       "      <td>-1.312977</td>\n",
       "      <td>0</td>\n",
       "    </tr>\n",
       "    <tr>\n",
       "      <th>3</th>\n",
       "      <td>-1.506521</td>\n",
       "      <td>0.106445</td>\n",
       "      <td>-1.284407</td>\n",
       "      <td>-1.312977</td>\n",
       "      <td>0</td>\n",
       "    </tr>\n",
       "    <tr>\n",
       "      <th>4</th>\n",
       "      <td>-1.021849</td>\n",
       "      <td>1.263460</td>\n",
       "      <td>-1.341272</td>\n",
       "      <td>-1.312977</td>\n",
       "      <td>0</td>\n",
       "    </tr>\n",
       "  </tbody>\n",
       "</table>\n",
       "</div>"
      ],
      "text/plain": [
       "   SepalLengthCm  SepalWidthCm  PetalLengthCm  PetalWidthCm  Species\n",
       "0      -0.900681      1.032057      -1.341272     -1.312977        0\n",
       "1      -1.143017     -0.124958      -1.341272     -1.312977        0\n",
       "2      -1.385353      0.337848      -1.398138     -1.312977        0\n",
       "3      -1.506521      0.106445      -1.284407     -1.312977        0\n",
       "4      -1.021849      1.263460      -1.341272     -1.312977        0"
      ]
     },
     "execution_count": 35,
     "metadata": {},
     "output_type": "execute_result"
    }
   ],
   "source": [
    "df.head()"
   ]
  },
  {
   "cell_type": "code",
   "execution_count": 36,
   "metadata": {},
   "outputs": [],
   "source": [
    "df.to_csv(data_path/\"df_processed.csv\", index=False)"
   ]
  },
  {
   "cell_type": "markdown",
   "metadata": {},
   "source": [
    "# Training of a Feedforward Neural network for Multi-class Classification"
   ]
  },
  {
   "cell_type": "code",
   "execution_count": 37,
   "metadata": {},
   "outputs": [
    {
     "name": "stdout",
     "output_type": "stream",
     "text": [
      "<class 'pandas.core.frame.DataFrame'>\n",
      "RangeIndex: 150 entries, 0 to 149\n",
      "Data columns (total 5 columns):\n",
      " #   Column         Non-Null Count  Dtype  \n",
      "---  ------         --------------  -----  \n",
      " 0   SepalLengthCm  150 non-null    float64\n",
      " 1   SepalWidthCm   150 non-null    float64\n",
      " 2   PetalLengthCm  150 non-null    float64\n",
      " 3   PetalWidthCm   150 non-null    float64\n",
      " 4   Species        150 non-null    int64  \n",
      "dtypes: float64(4), int64(1)\n",
      "memory usage: 6.0 KB\n"
     ]
    }
   ],
   "source": [
    "df = pd.read_csv(data_path/\"df_processed.csv\")\n",
    "df.info()"
   ]
  },
  {
   "cell_type": "code",
   "execution_count": 38,
   "metadata": {},
   "outputs": [],
   "source": [
    "y = df[\"Species\"].astype(int)\n",
    "X = df.drop([\"Species\"], axis = 1)"
   ]
  },
  {
   "cell_type": "code",
   "execution_count": 39,
   "metadata": {},
   "outputs": [],
   "source": [
    "X_train, X_test, y_train, y_test = train_test_split(X, y, test_size=0.15, random_state=42)"
   ]
  },
  {
   "cell_type": "code",
   "execution_count": 40,
   "metadata": {},
   "outputs": [],
   "source": [
    "X_train, X_val, y_train, y_val = train_test_split(X_train, y_train, test_size=0.15, random_state=42)"
   ]
  },
  {
   "cell_type": "code",
   "execution_count": 41,
   "metadata": {},
   "outputs": [
    {
     "data": {
      "text/plain": [
       "((107, 4), (23, 4), (20, 4), (107,), (23,), (20,))"
      ]
     },
     "execution_count": 41,
     "metadata": {},
     "output_type": "execute_result"
    }
   ],
   "source": [
    "X_train.shape, X_test.shape, X_val.shape, y_train.shape, y_test.shape, y_val.shape"
   ]
  },
  {
   "cell_type": "code",
   "execution_count": 42,
   "metadata": {},
   "outputs": [],
   "source": [
    "class IrisDataset(Dataset):\n",
    "    def __init__(self, features, labels):\n",
    "        super().__init__()\n",
    "        self.features = torch.FloatTensor(features)\n",
    "        self.labels = torch.LongTensor(labels)\n",
    "\n",
    "    def __len__(self):\n",
    "        return len(self.labels)\n",
    "\n",
    "    def __getitem__(self, idx):\n",
    "        return self.features[idx], self.labels[idx]"
   ]
  },
  {
   "cell_type": "code",
   "execution_count": 43,
   "metadata": {},
   "outputs": [],
   "source": [
    "class NNMulticlassClassifier(nn.Module):\n",
    "    def __init__(self, input_size):\n",
    "        super(NNMulticlassClassifier, self).__init__()\n",
    "        self.input_size = input_size\n",
    "        self.model = nn.Sequential(\n",
    "            nn.Linear(self.input_size, 64), \n",
    "            nn.BatchNorm1d(64), \n",
    "            nn.ReLU(), \n",
    "            nn.Dropout(0.5), \n",
    "            nn.Linear(64, 128), \n",
    "            nn.BatchNorm1d(128), \n",
    "            nn.ReLU(), \n",
    "            nn.Dropout(0.5),\n",
    "            # nn.Linear(128, 256), \n",
    "            # nn.BatchNorm1d(256), \n",
    "            # nn.ReLU(), \n",
    "            # nn.Dropout(0.5),\n",
    "            # nn.Linear(256, 128), \n",
    "            # nn.BatchNorm1d(128), \n",
    "            # nn.ReLU(), \n",
    "            # nn.Dropout(0.5),\n",
    "            nn.Linear(128, 64), \n",
    "            nn.BatchNorm1d(64), \n",
    "            nn.ReLU(), \n",
    "            nn.Dropout(0.5),\n",
    "            # nn.Linear(64, 32), \n",
    "            # nn.BatchNorm1d(32), \n",
    "            # nn.ReLU(), \n",
    "            # nn.Dropout(0.5),\n",
    "            # nn.Linear(32, 16), \n",
    "            # nn.BatchNorm1d(16), \n",
    "            # nn.ReLU(), \n",
    "            # nn.Dropout(0.5),\n",
    "            # nn.Linear(16, 8), \n",
    "            # nn.BatchNorm1d(8), \n",
    "            # nn.ReLU(), \n",
    "            # nn.Dropout(0.5),\n",
    "            nn.Linear(64, 3), \n",
    "            nn.ReLU()\n",
    "        )\n",
    "\n",
    "    def forward(self, data):\n",
    "        output = self.model(data)\n",
    "        return output"
   ]
  },
  {
   "cell_type": "code",
   "execution_count": 44,
   "metadata": {},
   "outputs": [],
   "source": [
    "multiClf = NNMulticlassClassifier(X_train.shape[1])\n"
   ]
  },
  {
   "cell_type": "code",
   "execution_count": 45,
   "metadata": {},
   "outputs": [],
   "source": [
    "X_train_tensor = torch.tensor(X_train.values, dtype=torch.float32)\n",
    "X_test_tensor = torch.tensor(X_test.values, dtype=torch.float32)\n",
    "X_val_tensor = torch.tensor(X_val.values, dtype=torch.float32)\n",
    "\n",
    "y_train_tensor = torch.tensor(y_train.values, dtype=torch.long)\n",
    "y_test_tensor = torch.tensor(y_test.values, dtype=torch.long)\n",
    "y_val_tensor = torch.tensor(y_val.values, dtype=torch.long)"
   ]
  },
  {
   "cell_type": "code",
   "execution_count": 46,
   "metadata": {},
   "outputs": [
    {
     "data": {
      "text/plain": [
       "(torch.Size([107, 4]),\n",
       " torch.Size([23, 4]),\n",
       " torch.Size([20, 4]),\n",
       " torch.Size([107]),\n",
       " torch.Size([23]),\n",
       " torch.Size([20]))"
      ]
     },
     "execution_count": 46,
     "metadata": {},
     "output_type": "execute_result"
    }
   ],
   "source": [
    "X_train_tensor.shape, X_test_tensor.shape, X_val_tensor.shape, y_train_tensor.shape, y_test_tensor.shape, y_val_tensor.shape"
   ]
  },
  {
   "cell_type": "code",
   "execution_count": 47,
   "metadata": {},
   "outputs": [],
   "source": [
    "criterion  = nn.CrossEntropyLoss()\n",
    "optimizer = optim.Adam(multiClf.parameters(), lr = 0.0001)\n",
    "epochs = 1500\n",
    "bs = 4"
   ]
  },
  {
   "cell_type": "code",
   "execution_count": 48,
   "metadata": {},
   "outputs": [],
   "source": [
    "train_dataset = IrisDataset(X_train_tensor, y_train_tensor)\n",
    "train_loader = DataLoader(train_dataset, batch_size=bs, shuffle=True)\n",
    "\n",
    "val_dataset = IrisDataset(X_val_tensor, y_val_tensor)\n",
    "val_loader = DataLoader(val_dataset, batch_size=bs, shuffle=False)\n",
    "\n",
    "test_dataset = IrisDataset(X_test_tensor, y_test_tensor)\n",
    "test_loader = DataLoader(test_dataset, batch_size=bs, shuffle=False)"
   ]
  },
  {
   "cell_type": "code",
   "execution_count": 49,
   "metadata": {},
   "outputs": [
    {
     "name": "stdout",
     "output_type": "stream",
     "text": [
      "After epoch 0, train loss : 1.1200505848284121,  model accuracy : 65%.\n",
      "After epoch 20, train loss : 0.9769074674005862,  model accuracy : 70%.\n",
      "After epoch 40, train loss : 0.902168454947295,  model accuracy : 90%.\n",
      "After epoch 60, train loss : 0.8413064546055264,  model accuracy : 90%.\n",
      "After epoch 80, train loss : 0.7670508910108496,  model accuracy : 90%.\n",
      "After epoch 100, train loss : 0.8168046286812535,  model accuracy : 90%.\n",
      "After epoch 120, train loss : 0.7739451715239772,  model accuracy : 90%.\n",
      "After epoch 140, train loss : 0.7571184668276045,  model accuracy : 90%.\n",
      "After epoch 160, train loss : 0.7514128353860643,  model accuracy : 90%.\n",
      "After epoch 180, train loss : 0.6776956485377418,  model accuracy : 95%.\n",
      "After epoch 200, train loss : 0.6197192370891571,  model accuracy : 95%.\n",
      "After epoch 220, train loss : 0.6861667975231454,  model accuracy : 90%.\n",
      "After epoch 240, train loss : 0.6158568185788614,  model accuracy : 90%.\n",
      "After epoch 260, train loss : 0.6690094283333531,  model accuracy : 95%.\n",
      "After epoch 280, train loss : 0.6450201604101393,  model accuracy : 95%.\n",
      "After epoch 300, train loss : 0.5505318531283626,  model accuracy : 95%.\n",
      "After epoch 320, train loss : 0.6177473300033145,  model accuracy : 100%.\n",
      "After epoch 340, train loss : 0.5789048743468744,  model accuracy : 100%.\n",
      "After epoch 360, train loss : 0.6714959089402799,  model accuracy : 95%.\n",
      "After epoch 380, train loss : 0.6035451960784418,  model accuracy : 95%.\n",
      "After epoch 400, train loss : 0.4774817868515297,  model accuracy : 95%.\n",
      "After epoch 420, train loss : 0.5819844173060523,  model accuracy : 95%.\n",
      "After epoch 440, train loss : 0.5702938906572483,  model accuracy : 95%.\n",
      "After epoch 460, train loss : 0.6167288654380374,  model accuracy : 100%.\n",
      "After epoch 480, train loss : 0.7403721400985012,  model accuracy : 95%.\n",
      "After epoch 500, train loss : 0.7497815876095383,  model accuracy : 95%.\n",
      "After epoch 520, train loss : 0.553112964939188,  model accuracy : 100%.\n",
      "After epoch 540, train loss : 0.5893031110366186,  model accuracy : 95%.\n",
      "After epoch 560, train loss : 0.5708724883971391,  model accuracy : 95%.\n",
      "After epoch 580, train loss : 0.7631258798970116,  model accuracy : 100%.\n",
      "After epoch 600, train loss : 0.5262291624590203,  model accuracy : 100%.\n",
      "After epoch 620, train loss : 0.7312325636545817,  model accuracy : 100%.\n",
      "After epoch 640, train loss : 0.5769604632148037,  model accuracy : 95%.\n",
      "After epoch 660, train loss : 0.7160777228849905,  model accuracy : 95%.\n",
      "After epoch 680, train loss : 0.47621445578557475,  model accuracy : 100%.\n",
      "After epoch 700, train loss : 0.6944124869726322,  model accuracy : 95%.\n",
      "After epoch 720, train loss : 0.4600691629780663,  model accuracy : 95%.\n",
      "After epoch 740, train loss : 0.49605353121404294,  model accuracy : 95%.\n",
      "After epoch 760, train loss : 0.5933857488411444,  model accuracy : 95%.\n",
      "After epoch 780, train loss : 0.5398437833344495,  model accuracy : 95%.\n",
      "After epoch 800, train loss : 0.6039743111641319,  model accuracy : 95%.\n",
      "After epoch 820, train loss : 0.6782585128589913,  model accuracy : 95%.\n",
      "After epoch 840, train loss : 0.4584649873000604,  model accuracy : 100%.\n",
      "After epoch 860, train loss : 0.5274004130451767,  model accuracy : 100%.\n",
      "After epoch 880, train loss : 0.4731804562939538,  model accuracy : 90%.\n",
      "After epoch 900, train loss : 0.47408958552060304,  model accuracy : 95%.\n",
      "After epoch 920, train loss : 0.5864990844770714,  model accuracy : 95%.\n",
      "After epoch 940, train loss : 0.4445002056934215,  model accuracy : 95%.\n",
      "After epoch 960, train loss : 0.529366566075219,  model accuracy : 95%.\n",
      "After epoch 980, train loss : 0.62936164493914,  model accuracy : 100%.\n",
      "After epoch 1000, train loss : 0.532007253004445,  model accuracy : 95%.\n",
      "After epoch 1020, train loss : 0.527041252012606,  model accuracy : 95%.\n",
      "After epoch 1040, train loss : 0.6095098858630216,  model accuracy : 95%.\n",
      "After epoch 1060, train loss : 0.5648545070930764,  model accuracy : 95%.\n",
      "After epoch 1080, train loss : 0.44223791967939446,  model accuracy : 95%.\n",
      "After epoch 1100, train loss : 0.5362286451790068,  model accuracy : 95%.\n",
      "After epoch 1120, train loss : 0.39256336512389006,  model accuracy : 100%.\n",
      "After epoch 1140, train loss : 0.5966469341958011,  model accuracy : 100%.\n",
      "After epoch 1160, train loss : 0.6952433232907895,  model accuracy : 95%.\n",
      "After epoch 1180, train loss : 0.5441056478906561,  model accuracy : 95%.\n",
      "After epoch 1200, train loss : 0.7126743274706381,  model accuracy : 95%.\n",
      "After epoch 1220, train loss : 0.5306228564845191,  model accuracy : 95%.\n",
      "After epoch 1240, train loss : 0.4179382589128282,  model accuracy : 95%.\n",
      "After epoch 1260, train loss : 0.3612421464037012,  model accuracy : 95%.\n",
      "After epoch 1280, train loss : 0.396894833555928,  model accuracy : 95%.\n",
      "After epoch 1300, train loss : 0.5268876938908188,  model accuracy : 100%.\n",
      "After epoch 1320, train loss : 0.5158033042594239,  model accuracy : 95%.\n",
      "After epoch 1340, train loss : 0.4632583608229955,  model accuracy : 95%.\n",
      "After epoch 1360, train loss : 0.4788047969341278,  model accuracy : 100%.\n",
      "After epoch 1380, train loss : 0.6069965257688805,  model accuracy : 95%.\n",
      "After epoch 1400, train loss : 0.44445199822938003,  model accuracy : 95%.\n",
      "After epoch 1420, train loss : 0.5184036940336227,  model accuracy : 95%.\n",
      "After epoch 1440, train loss : 0.4810161640246709,  model accuracy : 95%.\n",
      "After epoch 1460, train loss : 0.49440936909781563,  model accuracy : 95%.\n",
      "After epoch 1480, train loss : 0.48423101946159647,  model accuracy : 95%.\n"
     ]
    }
   ],
   "source": [
    "train_loss = []\n",
    "model_accuracy = []\n",
    "\n",
    "for epoch in range(epochs):\n",
    "    multiClf.train()\n",
    "    epoch_train_loss = 0\n",
    "\n",
    "    for batch_X, batch_y in train_loader:\n",
    "        optimizer.zero_grad()\n",
    "        batch_y_hat = multiClf(batch_X)\n",
    "        batch_loss = criterion(batch_y_hat, batch_y)\n",
    "        batch_loss.backward()\n",
    "        optimizer.step()\n",
    "        epoch_train_loss += batch_loss.item()\n",
    "    \n",
    "    epoch_train_loss /= len(train_loader)\n",
    "\n",
    "    if epoch % 20 == 0:\n",
    "        correct_preds = 0\n",
    "        total_preds = 0\n",
    "        multiClf.eval()\n",
    "        with torch.no_grad():\n",
    "            for val_batch_X, val_batch_y in val_loader:\n",
    "                val_batch_y_hat = multiClf(val_batch_X)\n",
    "                # import pdb; pdb.set_trace();\n",
    "                _, pred = torch.max(val_batch_y_hat.data, 1)\n",
    "                # _, actual_labels = torch.max(val_batch_y.data, 1)\n",
    "                total_preds += val_batch_y.size(0)\n",
    "                correct_preds += (pred == val_batch_y).sum().item()\n",
    "        epoch_accuracy = correct_preds/total_preds\n",
    "        train_loss.append(epoch_train_loss)\n",
    "        model_accuracy.append(epoch_accuracy)\n",
    "\n",
    "        print(f\"After epoch {epoch}, train loss : {epoch_train_loss},  model accuracy : {int(epoch_accuracy*100)}%.\")"
   ]
  },
  {
   "cell_type": "code",
   "execution_count": 50,
   "metadata": {},
   "outputs": [
    {
     "data": {
      "image/png": "[encoded data removed]",
      "text/plain": [
       "<Figure size 640x480 with 1 Axes>"
      ]
     },
     "metadata": {},
     "output_type": "display_data"
    }
   ],
   "source": [
    "plt.plot(train_loss, label=\"Train loss\", color=\"red\")\n",
    "plt.plot(model_accuracy, label=\"Model accuracy\", color='blue')\n",
    "plt.xlabel(\"epoch\")\n",
    "plt.ylabel(\"loss\")\n",
    "plt.title(\"Loss and Accuracy for feedforward network on IRIS Classification data\")\n",
    "plt.legend()\n",
    "plt.show()"
   ]
  },
  {
   "cell_type": "code",
   "execution_count": 51,
   "metadata": {},
   "outputs": [],
   "source": [
    "torch.save(multiClf.state_dict(), model_path)"
   ]
  },
  {
   "cell_type": "markdown",
   "metadata": {},
   "source": [
    "# Test Set Prediction"
   ]
  },
  {
   "cell_type": "code",
   "execution_count": 52,
   "metadata": {},
   "outputs": [],
   "source": [
    "# multiClf2 = NNMulticlassClassifier(X_train.shape[1])\n",
    "# multiClf2.load_state_dict(torch.load(model_path))"
   ]
  },
  {
   "cell_type": "code",
   "execution_count": 53,
   "metadata": {},
   "outputs": [],
   "source": [
    "# multiClf2.eval()"
   ]
  },
  {
   "cell_type": "code",
   "execution_count": 54,
   "metadata": {},
   "outputs": [],
   "source": [
    "# X_test_tensor = torch.tensor(X_test.values, dtype=torch.float32)\n",
    "# with torch.no_grad():\n",
    "#     y_hat_logits = multiClf2(X_test_tensor)"
   ]
  },
  {
   "cell_type": "code",
   "execution_count": null,
   "metadata": {},
   "outputs": [],
   "source": []
  }
 ],
 "metadata": {
  "kernelspec": {
   "display_name": "Python 3 (ipykernel)",
   "language": "python",
   "name": "python3"
  },
  "language_info": {
   "codemirror_mode": {
    "name": "ipython",
    "version": 3
   },
   "file_extension": ".py",
   "mimetype": "text/x-python",
   "name": "python",
   "nbconvert_exporter": "python",
   "pygments_lexer": "ipython3",
   "version": "3.10.15"
  }
 },
 "nbformat": 4,
 "nbformat_minor": 4
}
